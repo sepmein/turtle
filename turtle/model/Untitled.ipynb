{
 "cells": [
  {
   "cell_type": "code",
   "execution_count": null,
   "metadata": {},
   "outputs": [
    {
     "ename": "ModuleNotFoundError",
     "evalue": "No module named '__main__.config'; '__main__' is not a package",
     "traceback": [
      "\u001b[1;31m---------------------------------------------------------------------------\u001b[0m",
      "\u001b[1;31mModuleNotFoundError\u001b[0m                       Traceback (most recent call last)",
      "\u001b[1;32m<ipython-input-3-c5f4c89c8596>\u001b[0m in \u001b[0;36m<module>\u001b[1;34m()\u001b[0m\n\u001b[0;32m      3\u001b[0m \u001b[1;32mfrom\u001b[0m \u001b[0mtwone\u001b[0m \u001b[1;32mimport\u001b[0m \u001b[0mRNNContainer\u001b[0m \u001b[1;32mas\u001b[0m \u001b[0mContainer\u001b[0m\u001b[1;33m\u001b[0m\u001b[0m\n\u001b[0;32m      4\u001b[0m \u001b[1;33m\u001b[0m\u001b[0m\n\u001b[1;32m----> 5\u001b[1;33m \u001b[1;32mfrom\u001b[0m \u001b[1;33m.\u001b[0m\u001b[0mconfig\u001b[0m \u001b[1;32mimport\u001b[0m \u001b[0mfeature_labels\u001b[0m\u001b[1;33m,\u001b[0m \u001b[0mtarget_label\u001b[0m\u001b[1;33m\u001b[0m\u001b[0m\n\u001b[0m\u001b[0;32m      6\u001b[0m \u001b[1;32mfrom\u001b[0m \u001b[0mdata_fetcher\u001b[0m \u001b[1;32mimport\u001b[0m \u001b[0mscrap\u001b[0m\u001b[1;33m\u001b[0m\u001b[0m\n\u001b[0;32m      7\u001b[0m \u001b[1;33m\u001b[0m\u001b[0m\n",
      "\u001b[1;31mModuleNotFoundError\u001b[0m: No module named '__main__.config'; '__main__' is not a package"
     ],
     "output_type": "error"
    }
   ],
   "source": [
    "import tensorflow as tf\n",
    "from oyou import Model\n",
    "from twone import RNNContainer as Container\n",
    "\n",
    "from config import feature_labels, target_label\n",
    "from data_fetcher import scrap\n",
    "\n",
    "####################################################################\n",
    "# scrap data\n",
    "####################################################################\n",
    "fetched_raw_df = scrap()\n",
    "\n",
    "####################################################################\n",
    "# process data using twone\n",
    "####################################################################\n",
    "batch_size = 5\n",
    "time_steps = 20\n",
    "container = Container(data_frame=fetched_raw_df)\n",
    "# todo: change interpolate api to the most recent version\n",
    "container.interpolate() \\\n",
    "    .normalize() \\\n",
    "    .set_feature_tags(feature_tags=feature_labels) \\\n",
    "    .set_target_tags(target_tags=target_label, shift=-1)\n",
    "container.gen_batch(\n",
    "    batch=batch_size,\n",
    "    time_steps=time_steps\n",
    ")\n",
    "num_features = container._num_features\n",
    "num_targets = container._num_targets"
   ]
  },
  {
   "cell_type": "code",
   "execution_count": null,
   "metadata": {
    "collapsed": true
   },
   "outputs": [],
   "source": [
    "from config import start_at"
   ]
  }
 ],
 "metadata": {
  "kernelspec": {
   "display_name": "Python 3",
   "language": "python",
   "name": "python3"
  },
  "language_info": {
   "codemirror_mode": {
    "name": "ipython",
    "version": 3
   },
   "file_extension": ".py",
   "mimetype": "text/x-python",
   "name": "python",
   "nbconvert_exporter": "python",
   "pygments_lexer": "ipython3",
   "version": "3.6.3"
  }
 },
 "nbformat": 4,
 "nbformat_minor": 2
}
